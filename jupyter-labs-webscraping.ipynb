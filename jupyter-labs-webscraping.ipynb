{
 "cells": [
  {
   "cell_type": "markdown",
   "id": "aa78115b",
   "metadata": {},
   "source": [
    "<p style=\"text-align:center\">\n",
    "    <a href=\"https://skills.network\" target=\"_blank\">\n",
    "    <img src=\"https://cf-courses-data.s3.us.cloud-object-storage.appdomain.cloud/assets/logos/SN_web_lightmode.png\" width=\"200\" alt=\"Skills Network Logo\">\n",
    "    </a>\n",
    "</p>\n"
   ]
  },
  {
   "cell_type": "markdown",
   "id": "8e8c5227",
   "metadata": {},
   "source": [
    "# **Space X  Falcon 9 First Stage Landing Prediction**"
   ]
  },
  {
   "cell_type": "markdown",
   "id": "32482740",
   "metadata": {},
   "source": [
    "## Web scraping Falcon 9 and Falcon Heavy Launches Records from Wikipedia"
   ]
  },
  {
   "cell_type": "markdown",
   "id": "1a44c50a",
   "metadata": {},
   "source": [
    "Estimated time needed: **40** minutes"
   ]
  },
  {
   "cell_type": "markdown",
   "id": "ae44b94a",
   "metadata": {},
   "source": [
    "In this lab, you will be performing web scraping to collect Falcon 9 historical launch records from a Wikipedia page titled `List of Falcon 9 and Falcon Heavy launches`\n",
    "\n",
    "https://en.wikipedia.org/wiki/List_of_Falcon_9_and_Falcon_Heavy_launches"
   ]
  },
  {
   "cell_type": "markdown",
   "id": "e43781d9",
   "metadata": {},
   "source": [
    "  ## Objectives\n",
    "Web scrap Falcon 9 launch records with `BeautifulSoup`: \n",
    "- Extract a Falcon 9 launch records HTML table from Wikipedia\n",
    "- Parse the table and convert it into a Pandas data frame"
   ]
  },
  {
   "cell_type": "markdown",
   "id": "b67c720d",
   "metadata": {},
   "source": [
    "First let's import required packages for this lab"
   ]
  },
  {
   "cell_type": "code",
   "execution_count": 1,
   "id": "c32d8544",
   "metadata": {},
   "outputs": [],
   "source": [
    "import sys\n",
    "\n",
    "import requests\n",
    "from bs4 import BeautifulSoup\n",
    "import re\n",
    "import unicodedata\n",
    "import pandas as pd"
   ]
  },
  {
   "cell_type": "markdown",
   "id": "abbcba65",
   "metadata": {},
   "source": [
    "and we will provide some helper functions for you to process web scraped HTML table"
   ]
  },
  {
   "cell_type": "code",
   "execution_count": 2,
   "id": "7bc2405c",
   "metadata": {},
   "outputs": [],
   "source": [
    "def date_time(table_cells):\n",
    "    \"\"\"\n",
    "    This function returns the data and time from the HTML  table cell\n",
    "    Input: the  element of a table data cell extracts extra row\n",
    "    \"\"\"\n",
    "    return [data_time.strip() for data_time in list(table_cells.strings)][0:2]\n",
    "\n",
    "def booster_version(table_cells):\n",
    "    \"\"\"\n",
    "    This function returns the booster version from the HTML  table cell \n",
    "    Input: the  element of a table data cell extracts extra row\n",
    "    \"\"\"\n",
    "    out=''.join([booster_version for i,booster_version in enumerate( table_cells.strings) if i%2==0][0:-1])\n",
    "    return out\n",
    "\n",
    "def landing_status(table_cells):\n",
    "    \"\"\"\n",
    "    This function returns the landing status from the HTML table cell \n",
    "    Input: the  element of a table data cell extracts extra row\n",
    "    \"\"\"\n",
    "    out=[i for i in table_cells.strings][0]\n",
    "    return out\n",
    "\n",
    "\n",
    "def get_mass(table_cells):\n",
    "    mass=unicodedata.normalize(\"NFKD\", table_cells.text).strip()\n",
    "    if mass:\n",
    "        mass.find(\"kg\")\n",
    "        new_mass=mass[0:mass.find(\"kg\")+2]\n",
    "    else:\n",
    "        new_mass=0\n",
    "    return new_mass\n",
    "\n",
    "\n",
    "def extract_column_from_header(row):\n",
    "    \"\"\"\n",
    "    This function returns the landing status from the HTML table cell \n",
    "    Input: the  element of a table data cell extracts extra row\n",
    "    \"\"\"\n",
    "    if (row.br):\n",
    "        row.br.extract()\n",
    "    if row.a:\n",
    "        row.a.extract()\n",
    "    if row.sup:\n",
    "        row.sup.extract()\n",
    "        \n",
    "    colunm_name = ' '.join(row.contents)\n",
    "    \n",
    "    # Filter the digit and empty names\n",
    "    if not(colunm_name.strip().isdigit()):\n",
    "        colunm_name = colunm_name.strip()\n",
    "        return colunm_name    \n"
   ]
  },
  {
   "cell_type": "markdown",
   "id": "149bb1f3",
   "metadata": {},
   "source": [
    "To keep the lab tasks consistent, you will be asked to scrape the data from a snapshot of the  `List of Falcon 9 and Falcon Heavy launches` Wikipage updated on\n",
    "`9th June 2021`"
   ]
  },
  {
   "cell_type": "code",
   "execution_count": 3,
   "id": "035c5c1a",
   "metadata": {},
   "outputs": [],
   "source": [
    "static_url = \"https://en.wikipedia.org/w/index.php?title=List_of_Falcon_9_and_Falcon_Heavy_launches&oldid=1027686922\""
   ]
  },
  {
   "cell_type": "markdown",
   "id": "93746f2f",
   "metadata": {},
   "source": [
    "Next, request the HTML page from the above URL and get a `response` object\n",
    "## TASK 1: Request the Falcon9 Launch Wiki page from its URL\n",
    "First, let's perform an HTTP GET method to request the Falcon9 Launch HTML page, as an HTTP response."
   ]
  },
  {
   "cell_type": "code",
   "execution_count": 4,
   "id": "3b9d169f",
   "metadata": {},
   "outputs": [
    {
     "data": {
      "text/plain": [
       "200"
      ]
     },
     "execution_count": 4,
     "metadata": {},
     "output_type": "execute_result"
    }
   ],
   "source": [
    "# use requests.get() method with the provided static_url\n",
    "# assign the response to a object\n",
    "\n",
    "html_data = requests.get(static_url)\n",
    "html_data.status_code"
   ]
  },
  {
   "cell_type": "markdown",
   "id": "31a65d85",
   "metadata": {},
   "source": [
    "Create a `BeautifulSoup` object from the HTML `response`"
   ]
  },
  {
   "cell_type": "code",
   "execution_count": 5,
   "id": "441eba99",
   "metadata": {},
   "outputs": [],
   "source": [
    "# Use BeautifulSoup() to create a BeautifulSoup object from a response text content\n",
    "\n",
    "soup = BeautifulSoup(html_data.text, 'html5lib')"
   ]
  },
  {
   "cell_type": "markdown",
   "id": "30db2409",
   "metadata": {},
   "source": [
    "Print the page title to verify if the `BeautifulSoup` object was created properly "
   ]
  },
  {
   "cell_type": "code",
   "execution_count": 6,
   "id": "ced0b233",
   "metadata": {},
   "outputs": [
    {
     "data": {
      "text/plain": [
       "<title>List of Falcon 9 and Falcon Heavy launches - Wikipedia</title>"
      ]
     },
     "execution_count": 6,
     "metadata": {},
     "output_type": "execute_result"
    }
   ],
   "source": [
    "# Use soup.title attribute\n",
    "\n",
    "soup.title"
   ]
  },
  {
   "cell_type": "markdown",
   "id": "2e6813c5",
   "metadata": {},
   "source": [
    "## TASK 2: Extract all column/variable names from the HTML table header\n",
    "Next, we want to collect all relevant column names from the HTML table header.\n",
    "\n",
    "Let's try to find all tables on the wiki page first. If you need to refresh your memory about `BeautifulSoup`, please check the external reference link towards the end of this lab\n"
   ]
  },
  {
   "cell_type": "code",
   "execution_count": 7,
   "id": "ca1acb3a",
   "metadata": {},
   "outputs": [],
   "source": [
    "# Use the find_all function in the BeautifulSoup object, with element type `table`\n",
    "# Assign the result to a list called `html_tables`\n",
    "html_tables = soup.find_all('table')"
   ]
  },
  {
   "cell_type": "markdown",
   "id": "1b9e8c5b",
   "metadata": {},
   "source": [
    "Starting from the third table is our target table contains the actual launch records."
   ]
  },
  {
   "cell_type": "code",
   "execution_count": 8,
   "id": "46fa0dce",
   "metadata": {},
   "outputs": [],
   "source": [
    "# Let's print the third table and check its content\n",
    "first_launch_table = html_tables[2]\n",
    "\n",
    "# The \"print(first_launch_table)\" instruction that follows is commented because, if executed, it will \n",
    "# output multiple pages of content which is hard to read and assimiate. However, anyone reviewing \n",
    "# this Notebook can uncomment the instruction and verify the code actually works.\n",
    "\n",
    "# print(first_launch_table)"
   ]
  },
  {
   "cell_type": "markdown",
   "id": "ef010f5d",
   "metadata": {},
   "source": [
    "You should able to see the columns names embedded in the table header elements `<th>` as follows:"
   ]
  },
  {
   "cell_type": "markdown",
   "id": "d898562e",
   "metadata": {},
   "source": [
    "<tr>\n",
    "<th scope=\"col\">Flight No.\n",
    "</th>\n",
    "<th scope=\"col\">Date and<br/>time (<a href=\"/wiki/Coordinated_Universal_Time\" title=\"Coordinated Universal Time\">UTC</a>)\n",
    "</th>\n",
    "<th scope=\"col\"><a href=\"/wiki/List_of_Falcon_9_first-stage_boosters\" title=\"List of Falcon 9 first-stage boosters\">Version,<br/>Booster</a> <sup class=\"reference\" id=\"cite_ref-booster_11-0\"><a href=\"#cite_note-booster-11\">[b]</a></sup>\n",
    "</th>\n",
    "<th scope=\"col\">Launch site\n",
    "</th>\n",
    "<th scope=\"col\">Payload<sup class=\"reference\" id=\"cite_ref-Dragon_12-0\"><a href=\"#cite_note-Dragon-12\">[c]</a></sup>\n",
    "</th>\n",
    "<th scope=\"col\">Payload mass\n",
    "</th>\n",
    "<th scope=\"col\">Orbit\n",
    "</th>\n",
    "<th scope=\"col\">Customer\n",
    "</th>\n",
    "<th scope=\"col\">Launch<br/>outcome\n",
    "</th>\n",
    "<th scope=\"col\"><a href=\"/wiki/Falcon_9_first-stage_landing_tests\" title=\"Falcon 9 first-stage landing tests\">Booster<br/>landing</a>\n",
    "</th></tr>"
   ]
  },
  {
   "cell_type": "markdown",
   "id": "22cb668c",
   "metadata": {},
   "source": [
    "Next, we just need to iterate through the `<th>` elements and apply the provided `extract_column_from_header()` to extract column name one by one"
   ]
  },
  {
   "cell_type": "code",
   "execution_count": 9,
   "id": "2709dc0a",
   "metadata": {},
   "outputs": [],
   "source": [
    "column_names = []\n",
    "\n",
    "# Apply find_all() function with `th` element on first_launch_table\n",
    "# Iterate each th element and apply the provided extract_column_from_header() to get a column name\n",
    "# Append the Non-empty column name (`if name is not None and len(name) > 0`) into a list called column_names\n",
    "for element in first_launch_table.find_all('th'):\n",
    "    name = extract_column_from_header(element)\n",
    "    if name is not None and len(name) > 0:\n",
    "        column_names.append(name)\n",
    "        \n",
    "# Apply find_all() function with `th` element on first_launch_table\n",
    "# Iterate each th element and apply the provided extract_column_from_header() to get a column name\n",
    "# Append the Non-empty column name (`if name is not None and len(name) > 0`) into a list called column_names"
   ]
  },
  {
   "cell_type": "markdown",
   "id": "496c80d8",
   "metadata": {},
   "source": [
    "Check the extracted column names"
   ]
  },
  {
   "cell_type": "code",
   "execution_count": 10,
   "id": "760d3f1a",
   "metadata": {},
   "outputs": [
    {
     "name": "stdout",
     "output_type": "stream",
     "text": [
      "['Flight No.', 'Date and time ( )', 'Launch site', 'Payload', 'Payload mass', 'Orbit', 'Customer', 'Launch outcome']\n"
     ]
    }
   ],
   "source": [
    "print(column_names)"
   ]
  },
  {
   "cell_type": "markdown",
   "id": "00ed8339",
   "metadata": {},
   "source": [
    "## TASK 3: Create a data frame by parsing the launch HTML tables\n",
    "We will create an empty dictionary with keys from the extracted column names in the previous task. Later, this dictionary will be converted into a Pandas dataframe\n"
   ]
  },
  {
   "cell_type": "code",
   "execution_count": 11,
   "id": "32b4bc6f",
   "metadata": {},
   "outputs": [],
   "source": [
    "launch_dict= dict.fromkeys(column_names)\n",
    "\n",
    "# Remove an irrelvant column\n",
    "del launch_dict['Date and time ( )']\n",
    "\n",
    "# Let's initial the launch_dict with each value to be an empty list\n",
    "launch_dict['Flight No.'] = []\n",
    "launch_dict['Launch site'] = []\n",
    "launch_dict['Payload'] = []\n",
    "launch_dict['Payload mass'] = []\n",
    "launch_dict['Orbit'] = []\n",
    "launch_dict['Customer'] = []\n",
    "launch_dict['Launch outcome'] = []\n",
    "# Added some new columns\n",
    "launch_dict['Version Booster']=[]\n",
    "launch_dict['Booster landing']=[]\n",
    "launch_dict['Date']=[]\n",
    "launch_dict['Time']=[]"
   ]
  },
  {
   "cell_type": "markdown",
   "id": "40bb8904",
   "metadata": {},
   "source": [
    "Next, we just need to fill up the `launch_dict` with launch records extracted from table rows.\n",
    "\n",
    "Usually, HTML tables in Wiki pages are likely to contain unexpected annotations and other types of noises, such as reference links `B0004.1[8]`, missing values `N/A [e]`, inconsistent formatting, etc.\n",
    "\n",
    "To simplify the parsing process, we have provided an incomplete code snippet below to help you to fill up the `launch_dict`. Please complete the following code snippet with TODOs or you can choose to write your own logic to parse all launch tables:"
   ]
  },
  {
   "cell_type": "code",
   "execution_count": 12,
   "id": "a93d1249",
   "metadata": {},
   "outputs": [
    {
     "name": "stdout",
     "output_type": "stream",
     "text": [
      "F9 v1.0B0003.1\n",
      "F9 v1.0B0004.1\n",
      "F9 v1.0B0005.1\n",
      "F9 v1.0B0006.1\n",
      "F9 v1.0B0007.1\n",
      "F9 v1.1B1003\n",
      "F9 v1.1\n",
      "F9 v1.1\n",
      "F9 v1.1\n",
      "F9 v1.1\n",
      "F9 v1.1\n",
      "F9 v1.1\n",
      "F9 v1.1\n",
      "F9 v1.1\n",
      "F9 v1.1\n",
      "F9 v1.1\n",
      "F9 v1.1\n",
      "F9 v1.1\n",
      "F9 v1.1\n",
      "F9 FT\n",
      "F9 v1.1\n",
      "F9 FT\n",
      "F9 FT\n",
      "F9 FT\n",
      "F9 FT\n",
      "F9 FT\n",
      "F9 FT\n",
      "F9 FT\n",
      "F9 FT\n",
      "F9 FT\n",
      "F9 FT\n",
      "F9 FT♺\n",
      "F9 FT\n",
      "F9 FT\n",
      "F9 FT\n",
      "F9 FTB1029.2\n",
      "F9 FT\n",
      "F9 FT\n",
      "F9 B4\n",
      "F9 FT\n",
      "F9 B4\n",
      "F9 B4\n",
      "F9 FTB1031.2\n",
      "F9 B4\n",
      "F9 FTB1035.2\n",
      "F9 FTB1036.2\n",
      "F9 B4\n",
      "F9 FTB1032.2\n",
      "F9 FTB1038.2\n",
      "F9 B4\n",
      "F9 B4B1041.2\n",
      "F9 B4B1039.2\n",
      "F9 B4\n",
      "F9 B5B1046.1\n",
      "F9 B4B1043.2\n",
      "F9 B4B1040.2\n",
      "F9 B4B1045.2\n",
      "F9 B5\n",
      "F9 B5B1048\n",
      "F9 B5B1046.2\n",
      "F9 B5\n",
      "F9 B5B1048.2\n",
      "F9 B5B1047.2\n",
      "F9 B5B1046.3\n",
      "F9 B5\n",
      "F9 B5\n",
      "F9 B5B1049.2\n",
      "F9 B5B1048.3\n",
      "F9 B5[268]\n",
      "F9 B5\n",
      "F9 B5B1049.3\n",
      "F9 B5B1051.2\n",
      "F9 B5B1056.2\n",
      "F9 B5B1047.3\n",
      "F9 B5\n",
      "F9 B5\n",
      "F9 B5B1056.3\n",
      "F9 B5\n",
      "F9 B5\n",
      "F9 B5\n",
      "F9 B5\n",
      "F9 B5\n",
      "F9 B5\n",
      "F9 B5\n",
      "F9 B5\n",
      "F9 B5\n",
      "F9 B5\n",
      "F9 B5\n",
      "F9 B5B1058.2\n",
      "F9 B5\n",
      "F9 B5B1049.6\n",
      "F9 B5\n",
      "F9 B5B1060.2\n",
      "F9 B5B1058.3\n",
      "F9 B5B1051.6\n",
      "F9 B5\n",
      "F9 B5\n",
      "F9 B5\n",
      "F9 B5\n",
      "F9 B5 ♺\n",
      "F9 B5 ♺\n",
      "F9 B5 ♺\n",
      "F9 B5 ♺\n",
      "F9 B5\n",
      "F9 B5B1051.8\n",
      "F9 B5B1058.5\n"
     ]
    },
    {
     "ename": "AttributeError",
     "evalue": "'NoneType' object has no attribute 'string'",
     "output_type": "error",
     "traceback": [
      "\u001b[1;31m---------------------------------------------------------------------------\u001b[0m",
      "\u001b[1;31mAttributeError\u001b[0m                            Traceback (most recent call last)",
      "Cell \u001b[1;32mIn[12], line 62\u001b[0m\n\u001b[0;32m     57\u001b[0m orbit \u001b[38;5;241m=\u001b[39m row[\u001b[38;5;241m5\u001b[39m]\u001b[38;5;241m.\u001b[39ma\u001b[38;5;241m.\u001b[39mstring\n\u001b[0;32m     58\u001b[0m \u001b[38;5;66;03m#print(orbit)\u001b[39;00m\n\u001b[0;32m     59\u001b[0m \n\u001b[0;32m     60\u001b[0m \u001b[38;5;66;03m# Customer\u001b[39;00m\n\u001b[0;32m     61\u001b[0m \u001b[38;5;66;03m# TODO: Append the customer into launch_dict with key `Customer`\u001b[39;00m\n\u001b[1;32m---> 62\u001b[0m customer \u001b[38;5;241m=\u001b[39m \u001b[43mrow\u001b[49m\u001b[43m[\u001b[49m\u001b[38;5;241;43m6\u001b[39;49m\u001b[43m]\u001b[49m\u001b[38;5;241;43m.\u001b[39;49m\u001b[43ma\u001b[49m\u001b[38;5;241;43m.\u001b[39;49m\u001b[43mstring\u001b[49m\n\u001b[0;32m     63\u001b[0m \u001b[38;5;66;03m#print(customer)\u001b[39;00m\n\u001b[0;32m     64\u001b[0m \n\u001b[0;32m     65\u001b[0m \u001b[38;5;66;03m# Launch outcome\u001b[39;00m\n\u001b[0;32m     66\u001b[0m \u001b[38;5;66;03m# TODO: Append the launch_outcome into launch_dict with key `Launch outcome`\u001b[39;00m\n\u001b[0;32m     67\u001b[0m launch_outcome \u001b[38;5;241m=\u001b[39m \u001b[38;5;28mlist\u001b[39m(row[\u001b[38;5;241m7\u001b[39m]\u001b[38;5;241m.\u001b[39mstrings)[\u001b[38;5;241m0\u001b[39m]\n",
      "\u001b[1;31mAttributeError\u001b[0m: 'NoneType' object has no attribute 'string'"
     ]
    }
   ],
   "source": [
    "extracted_row = 0\n",
    "#Extract each table \n",
    "for table_number,table in enumerate(soup.find_all('table',\"wikitable plainrowheaders collapsible\")):\n",
    "   # get table row \n",
    "    for rows in table.find_all(\"tr\"):\n",
    "        #check to see if first table heading is as number corresponding to launch a number \n",
    "        if rows.th:\n",
    "            if rows.th.string:\n",
    "                flight_number=rows.th.string.strip()\n",
    "                flag=flight_number.isdigit()\n",
    "        else:\n",
    "            flag=False\n",
    "        #get table element \n",
    "        row=rows.find_all('td')\n",
    "        #if it is number save cells in a dictonary \n",
    "        if flag:\n",
    "            extracted_row += 1\n",
    "            # Flight Number value\n",
    "            # TODO: Append the flight_number into launch_dict with key `Flight No.`\n",
    "            #print(flight_number)\n",
    "            datatimelist=date_time(row[0])\n",
    "            \n",
    "            # Date value\n",
    "            # TODO: Append the date into launch_dict with key `Date`\n",
    "            date = datatimelist[0].strip(',')\n",
    "            #print(date)\n",
    "            \n",
    "            # Time value\n",
    "            # TODO: Append the time into launch_dict with key `Time`\n",
    "            time = datatimelist[1]\n",
    "            #print(time)\n",
    "              \n",
    "            # Booster version\n",
    "            # TODO: Append the bv into launch_dict with key `Version Booster`\n",
    "            bv=booster_version(row[1])\n",
    "            if not(bv):\n",
    "                bv=row[1].a.string\n",
    "            print(bv)\n",
    "            \n",
    "            # Launch Site\n",
    "            # TODO: Append the bv into launch_dict with key `Launch Site`\n",
    "            launch_site = row[2].a.string\n",
    "            #print(launch_site)\n",
    "            \n",
    "            # Payload\n",
    "            # TODO: Append the payload into launch_dict with key `Payload`\n",
    "            payload = row[3].a.string\n",
    "            #print(payload)\n",
    "            \n",
    "            # Payload Mass\n",
    "            # TODO: Append the payload_mass into launch_dict with key `Payload mass`\n",
    "            payload_mass = get_mass(row[4])\n",
    "            #print(payload)\n",
    "            \n",
    "            # Orbit\n",
    "            # TODO: Append the orbit into launch_dict with key `Orbit`\n",
    "            orbit = row[5].a.string\n",
    "            #print(orbit)\n",
    "            \n",
    "            # Customer\n",
    "            # TODO: Append the customer into launch_dict with key `Customer`\n",
    "            customer = row[6].a.string\n",
    "            #print(customer)\n",
    "            \n",
    "            # Launch outcome\n",
    "            # TODO: Append the launch_outcome into launch_dict with key `Launch outcome`\n",
    "            launch_outcome = list(row[7].strings)[0]\n",
    "            #print(launch_outcome)\n",
    "            \n",
    "            # Booster landing\n",
    "            # TODO: Append the launch_outcome into launch_dict with key `Booster landing`\n",
    "            booster_landing = landing_status(row[8])\n",
    "            #print(booster_landing)\n",
    "            "
   ]
  },
  {
   "cell_type": "markdown",
   "id": "bf840fc8",
   "metadata": {},
   "source": [
    "After you have fill in the parsed launch record values into `launch_dict`, you can create a dataframe from it."
   ]
  },
  {
   "cell_type": "code",
   "execution_count": 13,
   "id": "6b49ecb7",
   "metadata": {},
   "outputs": [],
   "source": [
    "df=pd.DataFrame(launch_dict)"
   ]
  },
  {
   "cell_type": "code",
   "execution_count": 14,
   "id": "e71cf0f6",
   "metadata": {},
   "outputs": [],
   "source": [
    "df.to_csv(\"spacex_web_scraped.csv\", index=False)"
   ]
  }
 ],
 "metadata": {
  "kernelspec": {
   "display_name": "Python 3",
   "language": "python",
   "name": "python3"
  },
  "language_info": {
   "codemirror_mode": {
    "name": "ipython",
    "version": 3
   },
   "file_extension": ".py",
   "mimetype": "text/x-python",
   "name": "python",
   "nbconvert_exporter": "python",
   "pygments_lexer": "ipython3",
   "version": "3.10.9"
  }
 },
 "nbformat": 4,
 "nbformat_minor": 5
}
